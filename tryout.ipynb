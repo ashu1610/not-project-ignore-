{
 "cells": [
  {
   "cell_type": "markdown",
   "metadata": {},
   "source": [
    "### Python Foundation"
   ]
  },
  {
   "cell_type": "raw",
   "metadata": {},
   "source": [
    "Q1: What is the output of following expression\n",
    "    5 + 4 * 9 % (3 + 1) / 6 - 1"
   ]
  },
  {
   "cell_type": "code",
   "execution_count": null,
   "metadata": {
    "scrolled": true
   },
   "outputs": [],
   "source": [
    "BORDMAS\n",
    "bracket \n",
    "of\n",
    "reminder\n",
    "division\n",
    "multi\n",
    "add\n",
    "subtr"
   ]
  },
  {
   "cell_type": "code",
   "execution_count": null,
   "metadata": {},
   "outputs": [],
   "source": [
    "5 + 4 * 9 % (3 + 1) / 6 - 1"
   ]
  },
  {
   "cell_type": "raw",
   "metadata": {},
   "source": [
    "Q2: Write a program to check if a Number is Odd or Even. Take number as a input from user at runtime."
   ]
  },
  {
   "cell_type": "code",
   "execution_count": 8,
   "metadata": {},
   "outputs": [
    {
     "name": "stdout",
     "output_type": "stream",
     "text": [
      "56\n",
      "even\n"
     ]
    }
   ],
   "source": [
    "a = int(input())\n",
    "if a % 2 == 0:\n",
    "    print(\"even\") \n",
    "else :\n",
    "    print(\"odd\")"
   ]
  },
  {
   "cell_type": "raw",
   "metadata": {},
   "source": [
    "Q4: Write a program which will find all numbers between 2000 and 3200 which are divisible by 7 \n",
    "    but are not a multiple of 5."
   ]
  },
  {
   "cell_type": "raw",
   "metadata": {},
   "source": [
    "range(), nested if"
   ]
  },
  {
   "cell_type": "code",
   "execution_count": 9,
   "metadata": {},
   "outputs": [
    {
     "name": "stdout",
     "output_type": "stream",
     "text": [
      "2002\n",
      "2009\n",
      "2016\n",
      "2023\n",
      "2037\n",
      "2044\n",
      "2051\n",
      "2058\n",
      "2072\n",
      "2079\n",
      "2086\n",
      "2093\n",
      "2107\n",
      "2114\n",
      "2121\n",
      "2128\n",
      "2142\n",
      "2149\n",
      "2156\n",
      "2163\n",
      "2177\n",
      "2184\n",
      "2191\n",
      "2198\n",
      "2212\n",
      "2219\n",
      "2226\n",
      "2233\n",
      "2247\n",
      "2254\n",
      "2261\n",
      "2268\n",
      "2282\n",
      "2289\n",
      "2296\n",
      "2303\n",
      "2317\n",
      "2324\n",
      "2331\n",
      "2338\n",
      "2352\n",
      "2359\n",
      "2366\n",
      "2373\n",
      "2387\n",
      "2394\n",
      "2401\n",
      "2408\n",
      "2422\n",
      "2429\n",
      "2436\n",
      "2443\n",
      "2457\n",
      "2464\n",
      "2471\n",
      "2478\n",
      "2492\n",
      "2499\n",
      "2506\n",
      "2513\n",
      "2527\n",
      "2534\n",
      "2541\n",
      "2548\n",
      "2562\n",
      "2569\n",
      "2576\n",
      "2583\n",
      "2597\n",
      "2604\n",
      "2611\n",
      "2618\n",
      "2632\n",
      "2639\n",
      "2646\n",
      "2653\n",
      "2667\n",
      "2674\n",
      "2681\n",
      "2688\n",
      "2702\n",
      "2709\n",
      "2716\n",
      "2723\n",
      "2737\n",
      "2744\n",
      "2751\n",
      "2758\n",
      "2772\n",
      "2779\n",
      "2786\n",
      "2793\n",
      "2807\n",
      "2814\n",
      "2821\n",
      "2828\n",
      "2842\n",
      "2849\n",
      "2856\n",
      "2863\n",
      "2877\n",
      "2884\n",
      "2891\n",
      "2898\n",
      "2912\n",
      "2919\n",
      "2926\n",
      "2933\n",
      "2947\n",
      "2954\n",
      "2961\n",
      "2968\n",
      "2982\n",
      "2989\n",
      "2996\n",
      "3003\n",
      "3017\n",
      "3024\n",
      "3031\n",
      "3038\n",
      "3052\n",
      "3059\n",
      "3066\n",
      "3073\n",
      "3087\n",
      "3094\n",
      "3101\n",
      "3108\n",
      "3122\n",
      "3129\n",
      "3136\n",
      "3143\n",
      "3157\n",
      "3164\n",
      "3171\n",
      "3178\n",
      "3192\n",
      "3199\n"
     ]
    }
   ],
   "source": [
    "for i in range(2000,3201,1):\n",
    "    if i % 7 ==0 and i % 5 !=0:\n",
    "        print(i)"
   ]
  },
  {
   "cell_type": "raw",
   "metadata": {},
   "source": [
    "Q5: Count the elements of each datatype inside the list and display in output\n",
    "    [2, 3, 'Py', '10', 1, 'SQL', 5.5, True, 3, 'John', None, 7]    "
   ]
  },
  {
   "cell_type": "code",
   "execution_count": 10,
   "metadata": {},
   "outputs": [],
   "source": [
    "l1 = [2, 3, 'Py', '10', 1, 'SQL', 5.5, True, 3, 'John', None, 7]"
   ]
  },
  {
   "cell_type": "code",
   "execution_count": 24,
   "metadata": {},
   "outputs": [
    {
     "name": "stdout",
     "output_type": "stream",
     "text": [
      "int : 5 \n",
      "float : 1 \n",
      "str : 4 \n",
      "bool : 1 \n",
      "None : 1\n"
     ]
    }
   ],
   "source": [
    "cint, cfloat, cstr, cbool, cnone = 0,0,0,0,0\n",
    "for i in l1:\n",
    "    if type(i) == int:\n",
    "        cint = cint + 1\n",
    "    elif type(i) == float:\n",
    "        cfloat = cfloat + 1\n",
    "    elif type(i) == str:\n",
    "        cstr = cstr + 1\n",
    "    elif i in [True, False]:\n",
    "        cbool = cbool +1\n",
    "    elif i == None:\n",
    "        cnone = cnone + 1\n",
    "print('int :',cint,'\\nfloat :',cfloat,'\\nstr :',cstr,'\\nbool :',cbool,'\\nNone :',cnone)"
   ]
  },
  {
   "cell_type": "raw",
   "metadata": {},
   "source": [
    "Q6: Add all values from the list with numeric datatypes \n",
    "    [2, 3, 'Py', '10', 1, 'SQL', 5.5, True, 3, 'John', None, 7] "
   ]
  },
  {
   "cell_type": "code",
   "execution_count": 25,
   "metadata": {},
   "outputs": [
    {
     "name": "stdout",
     "output_type": "stream",
     "text": [
      "sum : 21.5\n"
     ]
    }
   ],
   "source": [
    "csum = 0\n",
    "for i in l1:\n",
    "    if type(i) in (int, float):\n",
    "        csum = csum + i\n",
    "print('sum :', csum)"
   ]
  },
  {
   "cell_type": "raw",
   "metadata": {},
   "source": [
    "Q7: Concat all str datatypes with hyphen as a delimiter\n",
    "    [2, 3, 'Py', '10', 1, 'SQL', 5.5, True, 3, 'John', None, 7] "
   ]
  },
  {
   "cell_type": "code",
   "execution_count": 50,
   "metadata": {},
   "outputs": [
    {
     "name": "stdout",
     "output_type": "stream",
     "text": [
      "Py-10-SQL-John\n"
     ]
    }
   ],
   "source": [
    "print('Py-10-SQL-John')"
   ]
  },
  {
   "cell_type": "code",
   "execution_count": 58,
   "metadata": {},
   "outputs": [
    {
     "name": "stdout",
     "output_type": "stream",
     "text": [
      "['Py', '10', 'SQL', 'John']\n"
     ]
    },
    {
     "data": {
      "text/plain": [
       "'Py-10-SQL-John'"
      ]
     },
     "execution_count": 58,
     "metadata": {},
     "output_type": "execute_result"
    }
   ],
   "source": [
    "ss = []\n",
    "for i in l1:\n",
    "    if type(i) == str:\n",
    "        ss.append(i)\n",
    "        \n",
    "print(ss)\n",
    "'-'.join(ss)"
   ]
  },
  {
   "cell_type": "raw",
   "metadata": {},
   "source": [
    "Q8: Write a UDF that takes list as input and returns sum of all numbers \n",
    "    (exclude bool) and count of all str \n",
    "    [2, 3, 'Py', '10', 1, 'SQL', 5.5, True, 3, 'John', None, 7] \n",
    "    \n",
    "Hint:\n",
    "-----\n",
    "def my_func:\n",
    "    # your code\n",
    "        \n",
    "my_func(l1)\n",
    "# output --> {'Sum': xxx, 'Count_of_Strs': xxx}"
   ]
  },
  {
   "cell_type": "code",
   "execution_count": 28,
   "metadata": {},
   "outputs": [],
   "source": [
    "def my_func(a):\n",
    "    csum = 0\n",
    "    cstr = 0\n",
    "    for i in a:\n",
    "        if type(i) in (int,float):\n",
    "            csum = csum+i\n",
    "        elif type(i) == str:\n",
    "            cstr = cstr +1\n",
    "    return {'Sum':csum,'Count_of_Strs':cstr}"
   ]
  },
  {
   "cell_type": "code",
   "execution_count": 29,
   "metadata": {},
   "outputs": [
    {
     "data": {
      "text/plain": [
       "{'Sum': 21.5, 'Count_of_Strs': 4}"
      ]
     },
     "execution_count": 29,
     "metadata": {},
     "output_type": "execute_result"
    }
   ],
   "source": [
    "my_func(l1)"
   ]
  },
  {
   "cell_type": "raw",
   "metadata": {},
   "source": [
    "Q9: Get only odd numbers from the following list and store the numbers in new list\n",
    "    li = [5, 7, 22, 97, 54, 62, 77, 23, 73, 61]\n",
    "\n",
    "    i. Use loops to get the answer\n",
    "   ii. Use list comprehensions\n",
    "  iii. Use lambda function with filter"
   ]
  },
  {
   "cell_type": "code",
   "execution_count": 30,
   "metadata": {},
   "outputs": [],
   "source": [
    "li = [5, 7, 22, 97, 54, 62, 77, 23, 73, 61]"
   ]
  },
  {
   "cell_type": "code",
   "execution_count": 33,
   "metadata": {},
   "outputs": [
    {
     "name": "stdout",
     "output_type": "stream",
     "text": [
      "[5, 7, 97, 77, 23, 73, 61]\n"
     ]
    }
   ],
   "source": [
    "# loop\n",
    "lloop = []\n",
    "for i in li:\n",
    "    if i %2 !=0:\n",
    "        lloop.append(i)\n",
    "        \n",
    "print(lloop)"
   ]
  },
  {
   "cell_type": "code",
   "execution_count": 46,
   "metadata": {},
   "outputs": [],
   "source": [
    "# comprehensions\n",
    "lcomp = [i for i in li if i %2 !=0]"
   ]
  },
  {
   "cell_type": "code",
   "execution_count": 47,
   "metadata": {},
   "outputs": [
    {
     "name": "stdout",
     "output_type": "stream",
     "text": [
      "[5, 7, 97, 77, 23, 73, 61]\n"
     ]
    }
   ],
   "source": [
    "print(lcomp)"
   ]
  },
  {
   "cell_type": "code",
   "execution_count": 45,
   "metadata": {},
   "outputs": [
    {
     "name": "stdout",
     "output_type": "stream",
     "text": [
      "[5, 7, 97, 77, 23, 73, 61]\n"
     ]
    }
   ],
   "source": [
    "# lambda\n",
    "llmd = list(filter(lambda x : x  if x% 2 !=0 else 0, li))\n",
    "print(llmd)"
   ]
  },
  {
   "cell_type": "raw",
   "metadata": {},
   "source": [
    "Q10: Write a UDF to return the descriptives [sum, count, min, mean, max] for the n number of input \n",
    "    numbers."
   ]
  },
  {
   "cell_type": "code",
   "execution_count": 2,
   "metadata": {},
   "outputs": [
    {
     "name": "stdout",
     "output_type": "stream",
     "text": [
      "enter the number of element\n",
      "3\n",
      "\n",
      "enter the numbers\n",
      "55\n",
      "78\n",
      "99\n",
      "[55, 78, 99]\n"
     ]
    }
   ],
   "source": [
    "print(\"enter the number of element\")\n",
    "n = int(input())\n",
    "l1 = list()\n",
    "print('\\nenter the numbers')\n",
    "for i in range(n):\n",
    "    l1.append(int(input()))\n",
    "print(l1)"
   ]
  },
  {
   "cell_type": "code",
   "execution_count": 3,
   "metadata": {},
   "outputs": [],
   "source": [
    "import numpy as np"
   ]
  },
  {
   "cell_type": "code",
   "execution_count": 7,
   "metadata": {},
   "outputs": [
    {
     "name": "stdout",
     "output_type": "stream",
     "text": [
      "[232, 3, 55, 77.33, 99]\n"
     ]
    }
   ],
   "source": [
    "def my_func1(a):\n",
    "    return [sum(a),len(a),min(a),np.mean(a).round(2),max(a)]\n",
    "\n",
    "print(my_func1(l1))"
   ]
  },
  {
   "cell_type": "raw",
   "metadata": {},
   "source": [
    "Q11: Write an udf to calculate the area of different shapes\n",
    "\n",
    "Take shape and dimensions as arguments to udf as follows : \n",
    "\n",
    "1. square which has side\n",
    "2. rectangle which has length and width\n",
    "3. circle which has radius\n",
    "\n",
    "The shape should be a positional argument and it's dimensions are taken as kwargs\n",
    "\n",
    "Perform proper validation for the user inputs and then calculate area.\n",
    "\n",
    "E.g. if shape is square, ensure kwargs has \"side\" and if so, then you may return the area, else display appropriate error message like \"Please enter 'side' for a square\"\n",
    "\n",
    "def fn_area( shape, **kwargs ):\n",
    "    \n",
    "    if shape == 'square':\n",
    "        Area = kwargs['side'] ** 2\n",
    "    \n",
    "    return Area\n",
    "    \n",
    "fn_area('square', side = 10)"
   ]
  },
  {
   "cell_type": "code",
   "execution_count": 17,
   "metadata": {},
   "outputs": [],
   "source": [
    "def func(shape,**kwargs):\n",
    "    if shape == 'square':\n",
    "        area = kwargs['side']**2\n",
    "    elif shape == 'rectangle':\n",
    "        area = kwargs['length']*kwargs['width']\n",
    "    elif shape == 'circle':\n",
    "        area = kwargs['radius'] * kwargs['radius'] * 3.14\n",
    "    elif shape== 'triangle':\n",
    "        area = kwargs['base']*kwargs['heigth']*0.5\n",
    "    else:\n",
    "        area = 'Please enter the correct shape'\n",
    "    return area"
   ]
  },
  {
   "cell_type": "code",
   "execution_count": 20,
   "metadata": {},
   "outputs": [],
   "source": [
    "d = {'base':base}"
   ]
  },
  {
   "cell_type": "code",
   "execution_count": 21,
   "metadata": {},
   "outputs": [
    {
     "data": {
      "text/plain": [
       "{'base': 10}"
      ]
     },
     "execution_count": 21,
     "metadata": {},
     "output_type": "execute_result"
    }
   ],
   "source": [
    "d"
   ]
  },
  {
   "cell_type": "code",
   "execution_count": 22,
   "metadata": {},
   "outputs": [
    {
     "name": "stdout",
     "output_type": "stream",
     "text": [
      "triangle\n",
      "20\n",
      "3\n"
     ]
    }
   ],
   "source": [
    "s = input()\n",
    "base1 = int(input())\n",
    "heigth = int(input())"
   ]
  },
  {
   "cell_type": "code",
   "execution_count": 23,
   "metadata": {},
   "outputs": [
    {
     "name": "stdout",
     "output_type": "stream",
     "text": [
      "area : 30.0\n"
     ]
    }
   ],
   "source": [
    "print('area :',func(s,base= base1, heigth=heigth))"
   ]
  },
  {
   "cell_type": "raw",
   "metadata": {},
   "source": [
    "Q12: Write a UDF to reconcile the values within two lists.\n",
    "    l1 = ['January', 'February', 'March', 'May', 'June', 'September', 'December']\n",
    "    l2 = ['January', 'February', 'April', 'June', 'October', 'December']\n",
    "\n",
    "Hint:\n",
    "-----\n",
    "def func(l1, l2):\n",
    "    your code here...\n",
    "    \n",
    "Output:\n",
    "{'Matched': ['January', 'February', 'June', 'December'],\n",
    "    'Only in l1': ['March', 'May', 'September'],\n",
    "        'Only in l2': ['April', 'October']}"
   ]
  },
  {
   "cell_type": "code",
   "execution_count": 24,
   "metadata": {},
   "outputs": [],
   "source": [
    "l1 = ['January', 'February', 'March', 'May', 'June', 'September', 'December']\n",
    "l2 = ['January', 'February', 'April', 'June', 'October', 'December']"
   ]
  },
  {
   "cell_type": "code",
   "execution_count": 42,
   "metadata": {},
   "outputs": [],
   "source": [
    "def func(l1, l2):\n",
    "    ml1l2,ml1,ml2=[],[],[]\n",
    "    for i in l1:\n",
    "        if i in l2:\n",
    "            ml1l2.append(i)\n",
    "        else :\n",
    "            ml1.append(i)\n",
    "    for i in l2:\n",
    "        if i not in l1:\n",
    "            ml2.append(i)\n",
    "    return ({'Matched':ml1l2,\n",
    "                'Only in l1':ml1,\n",
    "                    'Only in l2':ml2})"
   ]
  },
  {
   "cell_type": "code",
   "execution_count": 43,
   "metadata": {},
   "outputs": [
    {
     "data": {
      "text/plain": [
       "{'Matched': ['January', 'February', 'June', 'December'],\n",
       " 'Only in l1': ['March', 'May', 'September'],\n",
       " 'Only in l2': ['April', 'October']}"
      ]
     },
     "execution_count": 43,
     "metadata": {},
     "output_type": "execute_result"
    }
   ],
   "source": [
    "func(l1,l2)"
   ]
  },
  {
   "cell_type": "raw",
   "metadata": {},
   "source": [
    "print the table of 5 as below:\n",
    "    \n",
    "    5 x 1 = 5\n",
    "    5 x 2 = 10\n",
    "    .......\n",
    "    5 x 10 = 50"
   ]
  },
  {
   "cell_type": "code",
   "execution_count": 5,
   "metadata": {},
   "outputs": [
    {
     "name": "stdout",
     "output_type": "stream",
     "text": [
      "5 X 1 = 5\n",
      "5 X 2 = 10\n",
      "5 X 3 = 15\n",
      "5 X 4 = 20\n",
      "5 X 5 = 25\n",
      "5 X 6 = 30\n",
      "5 X 7 = 35\n",
      "5 X 8 = 40\n",
      "5 X 9 = 45\n",
      "5 X 10 = 50\n"
     ]
    }
   ],
   "source": [
    "for i in range(1,11):\n",
    "    print('5 X',i,'=',5*i)"
   ]
  },
  {
   "cell_type": "code",
   "execution_count": null,
   "metadata": {},
   "outputs": [],
   "source": []
  }
 ],
 "metadata": {
  "kernelspec": {
   "display_name": "Python 3",
   "language": "python",
   "name": "python3"
  },
  "language_info": {
   "codemirror_mode": {
    "name": "ipython",
    "version": 3
   },
   "file_extension": ".py",
   "mimetype": "text/x-python",
   "name": "python",
   "nbconvert_exporter": "python",
   "pygments_lexer": "ipython3",
   "version": "3.7.4"
  }
 },
 "nbformat": 4,
 "nbformat_minor": 2
}
